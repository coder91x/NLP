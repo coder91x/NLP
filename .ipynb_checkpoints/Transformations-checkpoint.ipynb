{
 "cells": [
  {
   "cell_type": "code",
   "execution_count": null,
   "metadata": {},
   "outputs": [],
   "source": [
    "# A transformations is a tool that alters each data point in a column in a systematic way that makes it cleaner for a ML model to use\n",
    "# for instance it means squaring a value or taking square root of a value.\n",
    "# Box - Cox is powerful transformation. The base form of this type of transformation is y to the x power, where y is the value in an individual cell, and the x is the exponent of the power transformation you're applying.\n",
    "# Steps for transformation.\n",
    "# First you determine what range of exponents you want to test out. So in our example we had a range from negative two to positive two. And that's a commonly used range. \n",
    "# Then you'd apply these transformations to each value in the feature you'd like to transform. \n",
    "# Then you'd use some criteria to determine which of the transformations yielded the best distribution. You can read about what different criteria you can use to determine the best distribution"
   ]
  }
 ],
 "metadata": {
  "kernelspec": {
   "display_name": "Python 3",
   "language": "python",
   "name": "python3"
  },
  "language_info": {
   "codemirror_mode": {
    "name": "ipython",
    "version": 3
   },
   "file_extension": ".py",
   "mimetype": "text/x-python",
   "name": "python",
   "nbconvert_exporter": "python",
   "pygments_lexer": "ipython3",
   "version": "3.7.3"
  }
 },
 "nbformat": 4,
 "nbformat_minor": 2
}
