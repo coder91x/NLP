{
 "cells": [
  {
   "cell_type": "code",
   "execution_count": 2,
   "metadata": {},
   "outputs": [],
   "source": [
    "import nltk\n",
    "import pandas as pd\n",
    "import re\n",
    "import string"
   ]
  },
  {
   "cell_type": "code",
   "execution_count": 27,
   "metadata": {},
   "outputs": [],
   "source": [
    "pd.set_option('display.max_colwidth', 100)\n",
    "dataset = pd.read_csv(\"SMSSpamCollection.txt\", sep = '\\t', header = None)\n",
    "dataset.columns = ['label', 'body_text']\n",
    "\n",
    "stopwords = nltk.corpus.stopwords.words('english')\n",
    "ps = nltk.PorterStemmer()"
   ]
  },
  {
   "cell_type": "code",
   "execution_count": 28,
   "metadata": {},
   "outputs": [],
   "source": [
    "dataset['body_len'] = dataset['body_text'].apply(lambda x: len(x) - x.count(\" \"))\n",
    "\n",
    "def count_punct(text):\n",
    "    count = sum([1 for char in text if char in string.punctuation])\n",
    "    return round(count/(len(text) - text.count(\" \")), 3)* 100\n",
    "dataset['punct%'] = dataset['body_text'].apply(lambda x:count_punct(x))\n",
    "\n",
    "def count_capital(text):\n",
    "    text_no_punct = \"\".join([char for char in text if char not in string.punctuation])\n",
    "    count = sum([1 for char in text_no_punct if (char == char.upper() and char != \" \")])\n",
    "    return count\n",
    "dataset['cap_count'] = dataset['body_text'].apply(lambda x: count_capital(x))"
   ]
  },
  {
   "cell_type": "code",
   "execution_count": 29,
   "metadata": {},
   "outputs": [],
   "source": [
    "def clean_text(text):\n",
    "    text = \" \".join([char for char in text if char not in string.punctuation])\n",
    "    tokens = re.split('\\W+', text)\n",
    "    text = [ps.stem(word) for word in tokens if word not in stopwords]\n",
    "    return text\n",
    "    "
   ]
  },
  {
   "cell_type": "code",
   "execution_count": 68,
   "metadata": {},
   "outputs": [
    {
     "data": {
      "text/plain": [
       "(5572, 64)"
      ]
     },
     "execution_count": 68,
     "metadata": {},
     "output_type": "execute_result"
    }
   ],
   "source": [
    "from sklearn.feature_extraction.text import TfidfVectorizer\n",
    "tv = TfidfVectorizer(analyzer = clean_text)\n",
    "Term_matrix_tv = tv.fit_transform(dataset['body_text'])\n",
    "Term_matrix_tv.shape\n"
   ]
  },
  {
   "cell_type": "code",
   "execution_count": 69,
   "metadata": {},
   "outputs": [
    {
     "data": {
      "text/plain": [
       "(5572, 64)"
      ]
     },
     "execution_count": 69,
     "metadata": {},
     "output_type": "execute_result"
    }
   ],
   "source": [
    "from sklearn.feature_extraction.text import CountVectorizer\n",
    "cv = CountVectorizer(analyzer = clean_text)\n",
    "Term_matrix_cv = cv.fit_transform(dataset['body_text'])\n",
    "Term_matrix_cv.shape"
   ]
  },
  {
   "cell_type": "code",
   "execution_count": 71,
   "metadata": {},
   "outputs": [
    {
     "name": "stdout",
     "output_type": "stream",
     "text": [
      "(5572, 66)\n",
      "(5572, 66)\n"
     ]
    }
   ],
   "source": [
    "X_features_tv = pd.concat([dataset['body_len'], dataset['punct%'], pd.DataFrame(Term_matrix_tv.toarray())], axis = 1)\n",
    "X_features_cv = pd.concat([dataset['body_len'], dataset['punct%'], pd.DataFrame(Term_matrix_cv.toarray())], axis = 1)\n",
    "print(X_features_tv.shape)\n",
    "print(X_features_cv.shape)"
   ]
  },
  {
   "cell_type": "code",
   "execution_count": 72,
   "metadata": {},
   "outputs": [],
   "source": [
    "from sklearn.ensemble import RandomForestClassifier\n",
    "rf = RandomForestClassifier(n_jobs=-1)"
   ]
  },
  {
   "cell_type": "code",
   "execution_count": 73,
   "metadata": {},
   "outputs": [
    {
     "data": {
      "text/plain": [
       "array([0.98206278, 0.98834081, 0.97935368, 0.97576302, 0.98384201])"
      ]
     },
     "execution_count": 73,
     "metadata": {},
     "output_type": "execute_result"
    }
   ],
   "source": [
    "from sklearn.model_selection import KFold, cross_val_score\n",
    "kfold = KFold(n_splits=5)\n",
    "cross_val_score(rf, X_features, dataset['label'], cv = kfold, scoring = 'accuracy', n_jobs=-1)"
   ]
  },
  {
   "cell_type": "code",
   "execution_count": 74,
   "metadata": {},
   "outputs": [],
   "source": [
    "from sklearn.model_selection import train_test_split\n",
    "from sklearn.metrics import precision_recall_fscore_support as score"
   ]
  },
  {
   "cell_type": "code",
   "execution_count": 83,
   "metadata": {},
   "outputs": [
    {
     "name": "stdout",
     "output_type": "stream",
     "text": [
      "792      ham\n",
      "1453     ham\n",
      "4786    spam\n",
      "5242     ham\n",
      "2821    spam\n",
      "        ... \n",
      "2943     ham\n",
      "1357     ham\n",
      "1700     ham\n",
      "1439     ham\n",
      "1779     ham\n",
      "Name: label, Length: 1115, dtype: object\n"
     ]
    }
   ],
   "source": [
    "X_train, X_test, y_train, y_test = train_test_split(X_features, dataset['label'], test_size = 0.2)\n",
    "print(y_test)\n",
    "rf = RandomForestClassifier(n_estimators = 50, max_depth = 20, n_jobs = -1)\n",
    "rf_model = rf.fit(X_train, y_train)"
   ]
  },
  {
   "cell_type": "code",
   "execution_count": 76,
   "metadata": {},
   "outputs": [
    {
     "data": {
      "text/plain": [
       "[(0.16422827583710814, 1),\n",
       " (0.1330459689760953, 2),\n",
       " (0.10266677824092713, 9),\n",
       " (0.09450560459966086, 6),\n",
       " (0.0684412337585724, 8),\n",
       " (0.03884860703649875, 10),\n",
       " (0.03408300857692229, 7),\n",
       " (0.02685981742240459, 'body_len'),\n",
       " (0.026068759857867687, 3),\n",
       " (0.02428907917757818, 13)]"
      ]
     },
     "execution_count": 76,
     "metadata": {},
     "output_type": "execute_result"
    }
   ],
   "source": [
    "sorted(zip(rf_model.feature_importances_, X_train.columns), reverse = True)[:10]"
   ]
  },
  {
   "cell_type": "markdown",
   "metadata": {},
   "source": [
    "y_pred = rf_model.predict(X_test)\n",
    "precision, recall, fscore, support = score(y_test, y_pred, pos_label = 'spam', average = 'binary')\n",
    "print('Precison {} // Recall {} // Accuracy {}'.format(round(precision,3), \n",
    "                                                        round(recall, 3),\n",
    "                                                        round((y_pred==y_test).sum() / len(y_pred), 3)))"
   ]
  },
  {
   "cell_type": "code",
   "execution_count": 77,
   "metadata": {},
   "outputs": [],
   "source": [
    "def train_RF(n_est, depth):\n",
    "    rf = RandomForestClassifier(n_estimators=n_est, max_depth = depth, n_jobs =-1)\n",
    "    rf_model = rf.fit(X_train, y_train)\n",
    "    y_pred = rf_model.predict(X_test)\n",
    "    precision, recall, fscore, support = score(y_test, y_pred, pos_label = 'spam', average = 'binary')\n",
    "    print('Est: {}, Depth: {} -------> Precison {} // Recall {} // Accuracy {}'.format(n_est, depth,\n",
    "                                                        round(precision,3), \n",
    "                                                        round(recall, 3),\n",
    "                                                        round((y_pred==y_test).sum() / len(y_pred), 3)))"
   ]
  },
  {
   "cell_type": "code",
   "execution_count": 78,
   "metadata": {},
   "outputs": [
    {
     "name": "stdout",
     "output_type": "stream",
     "text": [
      "Est: 10, Depth: 10 -------> Precison 0.942 // Recall 0.89 // Accuracy 0.976\n",
      "Est: 10, Depth: 20 -------> Precison 0.965 // Recall 0.853 // Accuracy 0.974\n",
      "Est: 10, Depth: 30 -------> Precison 0.986 // Recall 0.865 // Accuracy 0.978\n",
      "Est: 10, Depth: None -------> Precison 0.979 // Recall 0.877 // Accuracy 0.979\n",
      "Est: 50, Depth: 10 -------> Precison 0.98 // Recall 0.908 // Accuracy 0.984\n",
      "Est: 50, Depth: 20 -------> Precison 0.98 // Recall 0.883 // Accuracy 0.98\n",
      "Est: 50, Depth: 30 -------> Precison 0.966 // Recall 0.883 // Accuracy 0.978\n",
      "Est: 50, Depth: None -------> Precison 0.98 // Recall 0.902 // Accuracy 0.983\n",
      "Est: 100, Depth: 10 -------> Precison 0.98 // Recall 0.896 // Accuracy 0.982\n",
      "Est: 100, Depth: 20 -------> Precison 0.986 // Recall 0.89 // Accuracy 0.982\n",
      "Est: 100, Depth: 30 -------> Precison 0.98 // Recall 0.908 // Accuracy 0.984\n",
      "Est: 100, Depth: None -------> Precison 0.987 // Recall 0.902 // Accuracy 0.984\n"
     ]
    }
   ],
   "source": [
    "for n_est in [10,50,100]:\n",
    "    for depth in [10, 20, 30, None]:\n",
    "        train_RF(n_est, depth)"
   ]
  },
  {
   "cell_type": "code",
   "execution_count": 95,
   "metadata": {},
   "outputs": [
    {
     "data": {
      "text/html": [
       "<div>\n",
       "<style scoped>\n",
       "    .dataframe tbody tr th:only-of-type {\n",
       "        vertical-align: middle;\n",
       "    }\n",
       "\n",
       "    .dataframe tbody tr th {\n",
       "        vertical-align: top;\n",
       "    }\n",
       "\n",
       "    .dataframe thead th {\n",
       "        text-align: right;\n",
       "    }\n",
       "</style>\n",
       "<table border=\"1\" class=\"dataframe\">\n",
       "  <thead>\n",
       "    <tr style=\"text-align: right;\">\n",
       "      <th></th>\n",
       "      <th>mean_fit_time</th>\n",
       "      <th>std_fit_time</th>\n",
       "      <th>mean_score_time</th>\n",
       "      <th>std_score_time</th>\n",
       "      <th>param_max_depth</th>\n",
       "      <th>param_n_estimators</th>\n",
       "      <th>params</th>\n",
       "      <th>split0_test_score</th>\n",
       "      <th>split1_test_score</th>\n",
       "      <th>split2_test_score</th>\n",
       "      <th>split3_test_score</th>\n",
       "      <th>split4_test_score</th>\n",
       "      <th>mean_test_score</th>\n",
       "      <th>std_test_score</th>\n",
       "      <th>rank_test_score</th>\n",
       "    </tr>\n",
       "  </thead>\n",
       "  <tbody>\n",
       "    <tr>\n",
       "      <td>9</td>\n",
       "      <td>1.242877</td>\n",
       "      <td>0.024505</td>\n",
       "      <td>0.029122</td>\n",
       "      <td>0.000977</td>\n",
       "      <td>90</td>\n",
       "      <td>100</td>\n",
       "      <td>{'max_depth': 90, 'n_estimators': 100}</td>\n",
       "      <td>0.979372</td>\n",
       "      <td>0.988341</td>\n",
       "      <td>0.980251</td>\n",
       "      <td>0.977558</td>\n",
       "      <td>0.982944</td>\n",
       "      <td>0.981693</td>\n",
       "      <td>0.003750</td>\n",
       "      <td>1</td>\n",
       "    </tr>\n",
       "    <tr>\n",
       "      <td>6</td>\n",
       "      <td>1.876383</td>\n",
       "      <td>0.074699</td>\n",
       "      <td>0.040292</td>\n",
       "      <td>0.002054</td>\n",
       "      <td>60</td>\n",
       "      <td>150</td>\n",
       "      <td>{'max_depth': 60, 'n_estimators': 150}</td>\n",
       "      <td>0.980269</td>\n",
       "      <td>0.987444</td>\n",
       "      <td>0.980251</td>\n",
       "      <td>0.973968</td>\n",
       "      <td>0.984740</td>\n",
       "      <td>0.981334</td>\n",
       "      <td>0.004593</td>\n",
       "      <td>2</td>\n",
       "    </tr>\n",
       "    <tr>\n",
       "      <td>1</td>\n",
       "      <td>1.141946</td>\n",
       "      <td>0.027925</td>\n",
       "      <td>0.026729</td>\n",
       "      <td>0.000747</td>\n",
       "      <td>30</td>\n",
       "      <td>100</td>\n",
       "      <td>{'max_depth': 30, 'n_estimators': 100}</td>\n",
       "      <td>0.980269</td>\n",
       "      <td>0.988341</td>\n",
       "      <td>0.977558</td>\n",
       "      <td>0.974865</td>\n",
       "      <td>0.985637</td>\n",
       "      <td>0.981334</td>\n",
       "      <td>0.004997</td>\n",
       "      <td>3</td>\n",
       "    </tr>\n",
       "    <tr>\n",
       "      <td>3</td>\n",
       "      <td>3.628608</td>\n",
       "      <td>0.094954</td>\n",
       "      <td>0.084774</td>\n",
       "      <td>0.014508</td>\n",
       "      <td>30</td>\n",
       "      <td>300</td>\n",
       "      <td>{'max_depth': 30, 'n_estimators': 300}</td>\n",
       "      <td>0.980269</td>\n",
       "      <td>0.987444</td>\n",
       "      <td>0.978456</td>\n",
       "      <td>0.977558</td>\n",
       "      <td>0.982047</td>\n",
       "      <td>0.981155</td>\n",
       "      <td>0.003503</td>\n",
       "      <td>4</td>\n",
       "    </tr>\n",
       "    <tr>\n",
       "      <td>2</td>\n",
       "      <td>1.760801</td>\n",
       "      <td>0.038740</td>\n",
       "      <td>0.040891</td>\n",
       "      <td>0.002275</td>\n",
       "      <td>30</td>\n",
       "      <td>150</td>\n",
       "      <td>{'max_depth': 30, 'n_estimators': 150}</td>\n",
       "      <td>0.980269</td>\n",
       "      <td>0.989238</td>\n",
       "      <td>0.979354</td>\n",
       "      <td>0.973968</td>\n",
       "      <td>0.982047</td>\n",
       "      <td>0.980975</td>\n",
       "      <td>0.004933</td>\n",
       "      <td>5</td>\n",
       "    </tr>\n",
       "  </tbody>\n",
       "</table>\n",
       "</div>"
      ],
      "text/plain": [
       "   mean_fit_time  std_fit_time  mean_score_time  std_score_time  \\\n",
       "9       1.242877      0.024505         0.029122        0.000977   \n",
       "6       1.876383      0.074699         0.040292        0.002054   \n",
       "1       1.141946      0.027925         0.026729        0.000747   \n",
       "3       3.628608      0.094954         0.084774        0.014508   \n",
       "2       1.760801      0.038740         0.040891        0.002275   \n",
       "\n",
       "  param_max_depth param_n_estimators                                  params  \\\n",
       "9              90                100  {'max_depth': 90, 'n_estimators': 100}   \n",
       "6              60                150  {'max_depth': 60, 'n_estimators': 150}   \n",
       "1              30                100  {'max_depth': 30, 'n_estimators': 100}   \n",
       "3              30                300  {'max_depth': 30, 'n_estimators': 300}   \n",
       "2              30                150  {'max_depth': 30, 'n_estimators': 150}   \n",
       "\n",
       "   split0_test_score  split1_test_score  split2_test_score  split3_test_score  \\\n",
       "9           0.979372           0.988341           0.980251           0.977558   \n",
       "6           0.980269           0.987444           0.980251           0.973968   \n",
       "1           0.980269           0.988341           0.977558           0.974865   \n",
       "3           0.980269           0.987444           0.978456           0.977558   \n",
       "2           0.980269           0.989238           0.979354           0.973968   \n",
       "\n",
       "   split4_test_score  mean_test_score  std_test_score  rank_test_score  \n",
       "9           0.982944         0.981693        0.003750                1  \n",
       "6           0.984740         0.981334        0.004593                2  \n",
       "1           0.985637         0.981334        0.004997                3  \n",
       "3           0.982047         0.981155        0.003503                4  \n",
       "2           0.982047         0.980975        0.004933                5  "
      ]
     },
     "execution_count": 95,
     "metadata": {},
     "output_type": "execute_result"
    }
   ],
   "source": [
    "from sklearn.model_selection import GridSearchCV\n",
    "rf = RandomForestClassifier()\n",
    "param = {'n_estimators': [10, 100, 150, 300], 'max_depth': [30, 60, 90, None] }\n",
    "gs = GridSearchCV(rf, param, cv = kfold, n_jobs = -1)\n",
    "gs_fit = gs.fit(X_features_tv, dataset['label'])\n",
    "pd.DataFrame(gs_fit.cv_results_).sort_values('mean_test_score', ascending = False)[:5]\n"
   ]
  },
  {
   "cell_type": "code",
   "execution_count": 96,
   "metadata": {},
   "outputs": [
    {
     "data": {
      "text/html": [
       "<div>\n",
       "<style scoped>\n",
       "    .dataframe tbody tr th:only-of-type {\n",
       "        vertical-align: middle;\n",
       "    }\n",
       "\n",
       "    .dataframe tbody tr th {\n",
       "        vertical-align: top;\n",
       "    }\n",
       "\n",
       "    .dataframe thead th {\n",
       "        text-align: right;\n",
       "    }\n",
       "</style>\n",
       "<table border=\"1\" class=\"dataframe\">\n",
       "  <thead>\n",
       "    <tr style=\"text-align: right;\">\n",
       "      <th></th>\n",
       "      <th>mean_fit_time</th>\n",
       "      <th>std_fit_time</th>\n",
       "      <th>mean_score_time</th>\n",
       "      <th>std_score_time</th>\n",
       "      <th>param_max_depth</th>\n",
       "      <th>param_n_estimators</th>\n",
       "      <th>params</th>\n",
       "      <th>split0_test_score</th>\n",
       "      <th>split1_test_score</th>\n",
       "      <th>split2_test_score</th>\n",
       "      <th>split3_test_score</th>\n",
       "      <th>split4_test_score</th>\n",
       "      <th>mean_test_score</th>\n",
       "      <th>std_test_score</th>\n",
       "      <th>rank_test_score</th>\n",
       "    </tr>\n",
       "  </thead>\n",
       "  <tbody>\n",
       "    <tr>\n",
       "      <td>7</td>\n",
       "      <td>2.526449</td>\n",
       "      <td>0.041469</td>\n",
       "      <td>0.084172</td>\n",
       "      <td>0.006487</td>\n",
       "      <td>60</td>\n",
       "      <td>300</td>\n",
       "      <td>{'max_depth': 60, 'n_estimators': 300}</td>\n",
       "      <td>0.982063</td>\n",
       "      <td>0.988341</td>\n",
       "      <td>0.980251</td>\n",
       "      <td>0.976661</td>\n",
       "      <td>0.983842</td>\n",
       "      <td>0.982232</td>\n",
       "      <td>0.003870</td>\n",
       "      <td>1</td>\n",
       "    </tr>\n",
       "    <tr>\n",
       "      <td>15</td>\n",
       "      <td>1.927051</td>\n",
       "      <td>0.155492</td>\n",
       "      <td>0.054855</td>\n",
       "      <td>0.007596</td>\n",
       "      <td>None</td>\n",
       "      <td>300</td>\n",
       "      <td>{'max_depth': None, 'n_estimators': 300}</td>\n",
       "      <td>0.981166</td>\n",
       "      <td>0.989238</td>\n",
       "      <td>0.979354</td>\n",
       "      <td>0.976661</td>\n",
       "      <td>0.983842</td>\n",
       "      <td>0.982052</td>\n",
       "      <td>0.004289</td>\n",
       "      <td>2</td>\n",
       "    </tr>\n",
       "    <tr>\n",
       "      <td>1</td>\n",
       "      <td>0.844143</td>\n",
       "      <td>0.020878</td>\n",
       "      <td>0.031316</td>\n",
       "      <td>0.001018</td>\n",
       "      <td>30</td>\n",
       "      <td>100</td>\n",
       "      <td>{'max_depth': 30, 'n_estimators': 100}</td>\n",
       "      <td>0.982960</td>\n",
       "      <td>0.987444</td>\n",
       "      <td>0.979354</td>\n",
       "      <td>0.978456</td>\n",
       "      <td>0.982047</td>\n",
       "      <td>0.982052</td>\n",
       "      <td>0.003166</td>\n",
       "      <td>3</td>\n",
       "    </tr>\n",
       "    <tr>\n",
       "      <td>11</td>\n",
       "      <td>2.301647</td>\n",
       "      <td>0.244001</td>\n",
       "      <td>0.073204</td>\n",
       "      <td>0.016647</td>\n",
       "      <td>90</td>\n",
       "      <td>300</td>\n",
       "      <td>{'max_depth': 90, 'n_estimators': 300}</td>\n",
       "      <td>0.981166</td>\n",
       "      <td>0.987444</td>\n",
       "      <td>0.980251</td>\n",
       "      <td>0.978456</td>\n",
       "      <td>0.981149</td>\n",
       "      <td>0.981693</td>\n",
       "      <td>0.003040</td>\n",
       "      <td>4</td>\n",
       "    </tr>\n",
       "    <tr>\n",
       "      <td>5</td>\n",
       "      <td>0.850925</td>\n",
       "      <td>0.041205</td>\n",
       "      <td>0.030718</td>\n",
       "      <td>0.001164</td>\n",
       "      <td>60</td>\n",
       "      <td>100</td>\n",
       "      <td>{'max_depth': 60, 'n_estimators': 100}</td>\n",
       "      <td>0.982063</td>\n",
       "      <td>0.987444</td>\n",
       "      <td>0.980251</td>\n",
       "      <td>0.975763</td>\n",
       "      <td>0.982944</td>\n",
       "      <td>0.981693</td>\n",
       "      <td>0.003795</td>\n",
       "      <td>5</td>\n",
       "    </tr>\n",
       "  </tbody>\n",
       "</table>\n",
       "</div>"
      ],
      "text/plain": [
       "    mean_fit_time  std_fit_time  mean_score_time  std_score_time  \\\n",
       "7        2.526449      0.041469         0.084172        0.006487   \n",
       "15       1.927051      0.155492         0.054855        0.007596   \n",
       "1        0.844143      0.020878         0.031316        0.001018   \n",
       "11       2.301647      0.244001         0.073204        0.016647   \n",
       "5        0.850925      0.041205         0.030718        0.001164   \n",
       "\n",
       "   param_max_depth param_n_estimators  \\\n",
       "7               60                300   \n",
       "15            None                300   \n",
       "1               30                100   \n",
       "11              90                300   \n",
       "5               60                100   \n",
       "\n",
       "                                      params  split0_test_score  \\\n",
       "7     {'max_depth': 60, 'n_estimators': 300}           0.982063   \n",
       "15  {'max_depth': None, 'n_estimators': 300}           0.981166   \n",
       "1     {'max_depth': 30, 'n_estimators': 100}           0.982960   \n",
       "11    {'max_depth': 90, 'n_estimators': 300}           0.981166   \n",
       "5     {'max_depth': 60, 'n_estimators': 100}           0.982063   \n",
       "\n",
       "    split1_test_score  split2_test_score  split3_test_score  \\\n",
       "7            0.988341           0.980251           0.976661   \n",
       "15           0.989238           0.979354           0.976661   \n",
       "1            0.987444           0.979354           0.978456   \n",
       "11           0.987444           0.980251           0.978456   \n",
       "5            0.987444           0.980251           0.975763   \n",
       "\n",
       "    split4_test_score  mean_test_score  std_test_score  rank_test_score  \n",
       "7            0.983842         0.982232        0.003870                1  \n",
       "15           0.983842         0.982052        0.004289                2  \n",
       "1            0.982047         0.982052        0.003166                3  \n",
       "11           0.981149         0.981693        0.003040                4  \n",
       "5            0.982944         0.981693        0.003795                5  "
      ]
     },
     "execution_count": 96,
     "metadata": {},
     "output_type": "execute_result"
    }
   ],
   "source": [
    "from sklearn.model_selection import GridSearchCV\n",
    "rf = RandomForestClassifier()\n",
    "param = {'n_estimators': [10, 100, 150, 300], 'max_depth': [30, 60, 90, None] }\n",
    "gs = GridSearchCV(rf, param, cv = kfold, n_jobs = -1)\n",
    "gs_fit = gs.fit(X_features_cv, dataset['label'])\n",
    "pd.DataFrame(gs_fit.cv_results_).sort_values('mean_test_score', ascending = False)[:5]"
   ]
  },
  {
   "cell_type": "code",
   "execution_count": null,
   "metadata": {},
   "outputs": [],
   "source": []
  }
 ],
 "metadata": {
  "kernelspec": {
   "display_name": "Python 3",
   "language": "python",
   "name": "python3"
  },
  "language_info": {
   "codemirror_mode": {
    "name": "ipython",
    "version": 3
   },
   "file_extension": ".py",
   "mimetype": "text/x-python",
   "name": "python",
   "nbconvert_exporter": "python",
   "pygments_lexer": "ipython3",
   "version": "3.7.3"
  }
 },
 "nbformat": 4,
 "nbformat_minor": 2
}
