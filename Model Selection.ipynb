{
 "cells": [
  {
   "cell_type": "code",
   "execution_count": 1,
   "metadata": {},
   "outputs": [],
   "source": [
    "import pandas as pd\n",
    "import nltk\n",
    "import string\n",
    "import re"
   ]
  },
  {
   "cell_type": "code",
   "execution_count": 2,
   "metadata": {},
   "outputs": [],
   "source": [
    "dataset = pd.read_csv('SMSSpamCollection.txt', sep = '\\t', header = None)\n",
    "dataset.columns = ['label', 'body_text']\n"
   ]
  },
  {
   "cell_type": "code",
   "execution_count": 3,
   "metadata": {},
   "outputs": [],
   "source": [
    "stopwords = nltk.corpus.stopwords.words('english')\n",
    "ps = nltk.PorterStemmer()"
   ]
  },
  {
   "cell_type": "code",
   "execution_count": 4,
   "metadata": {},
   "outputs": [],
   "source": [
    "dataset['body_len'] = dataset['body_text'].apply(lambda x : len(x) - x.count(' '))\n",
    "def count_punct(text):\n",
    "    count = sum([1 for char in text if char in string.punctuation])\n",
    "    return round(count/(len(text) - text.count(\" \")), 3)* 100\n",
    "dataset['punct%'] = dataset['body_text'].apply(lambda x:count_punct(x))\n",
    "\n",
    "def count_capital(text):\n",
    "    text_no_punct = \"\".join([char for char in text if char not in string.punctuation])\n",
    "    count = sum([1 for char in text_no_punct if (char == char.upper() and char != \" \")])\n",
    "    return count\n",
    "dataset['cap_count'] = dataset['body_text'].apply(lambda x: count_capital(x))"
   ]
  },
  {
   "cell_type": "code",
   "execution_count": 5,
   "metadata": {},
   "outputs": [],
   "source": [
    "def clean_text(text):\n",
    "    text = \" \".join([char for char in text if char not in string.punctuation])\n",
    "    tokens = re.split('\\W+', text)\n",
    "    text = [ps.stem(word) for word in tokens if word not in stopwords]\n",
    "    return text"
   ]
  },
  {
   "cell_type": "code",
   "execution_count": 6,
   "metadata": {},
   "outputs": [],
   "source": [
    "from sklearn.metrics import precision_recall_fscore_support as score\n",
    "from sklearn.model_selection import train_test_split\n",
    "X_train, X_test, y_train, y_test = train_test_split(dataset[['body_text', 'body_len', 'punct%', 'cap_count']],dataset['label'], test_size = 0.2)"
   ]
  },
  {
   "cell_type": "code",
   "execution_count": 16,
   "metadata": {},
   "outputs": [],
   "source": [
    "from sklearn.feature_extraction.text import TfidfVectorizer\n",
    "tv = TfidfVectorizer(analyzer = clean_text)\n",
    "tv_idf = tv.fit(X_train['body_text'])\n",
    "\n",
    "Term_matrix_train = tv_idf.transform(X_train['body_text'])\n",
    "Term_matrix_test = tv_idf.transform(X_test['body_text'])\n",
    "\n",
    "X_train_vect = pd.concat([X_train[['body_len', 'punct%', 'cap_count']].reset_index(drop = True)\n",
    "           , pd.DataFrame(Term_matrix_train.toarray())], axis = 1)\n",
    "X_test_vect = pd.concat([X_test[['body_len', 'punct%', 'cap_count']].reset_index(drop = True)\n",
    "           , pd.DataFrame(Term_matrix_test.toarray())], axis = 1)"
   ]
  },
  {
   "cell_type": "code",
   "execution_count": 17,
   "metadata": {},
   "outputs": [],
   "source": [
    "from sklearn.ensemble import GradientBoostingClassifier, RandomForestClassifier\n",
    "from sklearn.metrics import precision_recall_fscore_support as score\n",
    "import time"
   ]
  },
  {
   "cell_type": "code",
   "execution_count": 19,
   "metadata": {},
   "outputs": [
    {
     "name": "stdout",
     "output_type": "stream",
     "text": [
      "Fit Time: 0.271, Predict Time: 0.104 ----->Precision: 0.992, Recall: 0.909, Accuracy: 0.987\n",
      "None\n"
     ]
    }
   ],
   "source": [
    "rf = RandomForestClassifier(n_estimators = 150, max_depth = None, n_jobs = -1)\n",
    "start = time.time()\n",
    "rf_model = rf.fit(X_train_vect, y_train)\n",
    "end = time.time()\n",
    "fit_time = end - start\n",
    "\n",
    "start = time.time()\n",
    "y_pred = rf_model.predict(X_test_vect)\n",
    "end = time.time()\n",
    "pred_time = end - start\n",
    "\n",
    "precision, recall, fscore, support = score(y_test, y_pred, pos_label = 'spam', average = 'binary')\n",
    "print(print('Fit Time: {}, Predict Time: {} ----->Precision: {}, Recall: {}, Accuracy: {}'.format(round(fit_time, 3),\n",
    "                                                                                                  round(pred_time, 3),\n",
    "                                                                                                      round(precision, 3),\n",
    "                                                                                                      round(recall, 3),\n",
    "                                                                                                      round((y_pred == y_test).sum() / len(y_pred), 3)\n",
    "                                                                                                     )))\n"
   ]
  },
  {
   "cell_type": "code",
   "execution_count": 20,
   "metadata": {},
   "outputs": [
    {
     "name": "stdout",
     "output_type": "stream",
     "text": [
      "Fit Time: 5.155, Predict Time: 0.005 ----->Precision: 0.977, Recall: 0.909, Accuracy: 0.986\n",
      "None\n"
     ]
    }
   ],
   "source": [
    "gb = GradientBoostingClassifier(n_estimators = 150, max_depth = 11)\n",
    "start = time.time()\n",
    "gb_model = gb.fit(X_train_vect, y_train)\n",
    "end = time.time()\n",
    "fit_time = end - start\n",
    "\n",
    "start = time.time()\n",
    "y_pred = gb_model.predict(X_test_vect)\n",
    "end = time.time()\n",
    "pred_time = end - start\n",
    "\n",
    "precision, recall, fscore, support = score(y_test, y_pred, pos_label = 'spam', average = 'binary')\n",
    "print(print('Fit Time: {}, Predict Time: {} ----->Precision: {}, Recall: {}, Accuracy: {}'.format(round(fit_time, 3),\n",
    "                                                                                                  round(pred_time, 3),\n",
    "                                                                                                      round(precision, 3),\n",
    "                                                                                                      round(recall, 3),\n",
    "                                                                                                      round((y_pred == y_test).sum() / len(y_pred), 3)\n",
    "                                                                                                     )))"
   ]
  },
  {
   "cell_type": "code",
   "execution_count": null,
   "metadata": {},
   "outputs": [],
   "source": []
  }
 ],
 "metadata": {
  "kernelspec": {
   "display_name": "Python 3",
   "language": "python",
   "name": "python3"
  },
  "language_info": {
   "codemirror_mode": {
    "name": "ipython",
    "version": 3
   },
   "file_extension": ".py",
   "mimetype": "text/x-python",
   "name": "python",
   "nbconvert_exporter": "python",
   "pygments_lexer": "ipython3",
   "version": "3.7.3"
  }
 },
 "nbformat": 4,
 "nbformat_minor": 2
}
